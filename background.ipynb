{
 "cells": [
  {
   "cell_type": "code",
   "execution_count": 2,
   "metadata": {
    "collapsed": false
   },
   "outputs": [
    {
     "data": {
      "application/javascript": [
       "require.undef(\"nbextensions/vpython_libraries/glow.min\");"
      ],
      "text/plain": [
       "<IPython.core.display.Javascript object>"
      ]
     },
     "metadata": {},
     "output_type": "display_data"
    },
    {
     "data": {
      "application/javascript": [
       "require.undef(\"nbextensions/vpython_libraries/glowcomm\");"
      ],
      "text/plain": [
       "<IPython.core.display.Javascript object>"
      ]
     },
     "metadata": {},
     "output_type": "display_data"
    },
    {
     "data": {
      "application/javascript": [
       "require.undef(\"nbextensions/vpython_libraries/jquery-ui.custom.min\");"
      ],
      "text/plain": [
       "<IPython.core.display.Javascript object>"
      ]
     },
     "metadata": {},
     "output_type": "display_data"
    },
    {
     "data": {
      "application/javascript": [
       "require([\"nbextensions/vpython_libraries/glow.min\"], function(){console.log(\"GLOW LOADED\");})"
      ],
      "text/plain": [
       "<IPython.core.display.Javascript object>"
      ]
     },
     "metadata": {},
     "output_type": "display_data"
    },
    {
     "data": {
      "application/javascript": [
       "require([\"nbextensions/vpython_libraries/glowcomm\"], function(){console.log(\"GLOWCOMM LOADED\");})"
      ],
      "text/plain": [
       "<IPython.core.display.Javascript object>"
      ]
     },
     "metadata": {},
     "output_type": "display_data"
    },
    {
     "data": {
      "application/javascript": [
       "require([\"nbextensions/vpython_libraries/jquery-ui.custom.min\"], function(){console.log(\"JQUERY LOADED\");})"
      ],
      "text/plain": [
       "<IPython.core.display.Javascript object>"
      ]
     },
     "metadata": {},
     "output_type": "display_data"
    },
    {
     "data": {
      "text/html": [
       "<div id=\"glowscript\" class=\"glowscript\"></div>"
      ],
      "text/plain": [
       "<IPython.core.display.HTML object>"
      ]
     },
     "metadata": {},
     "output_type": "display_data"
    },
    {
     "data": {
      "application/javascript": [
       "window.__context = { glowscript_container: $(\"#glowscript\").removeAttr(\"id\")}"
      ],
      "text/plain": [
       "<IPython.core.display.Javascript object>"
      ]
     },
     "metadata": {},
     "output_type": "display_data"
    },
    {
     "data": {
      "text/html": [
       "<div id=\"glowscript\" class=\"glowscript\"></div>"
      ],
      "text/plain": [
       "<IPython.core.display.HTML object>"
      ]
     },
     "metadata": {},
     "output_type": "display_data"
    },
    {
     "data": {
      "application/javascript": [
       "window.__context = { glowscript_container: $(\"#glowscript\").removeAttr(\"id\")}"
      ],
      "text/plain": [
       "<IPython.core.display.Javascript object>"
      ]
     },
     "metadata": {},
     "output_type": "display_data"
    },
    {
     "name": "stdout",
     "output_type": "stream",
     "text": [
      "input your id_numb04207054\n",
      "Finsh,Thank you!\n"
     ]
    }
   ],
   "source": [
    "from vpython import*\n",
    "import math\n",
    "import random\n",
    "import winsound\n",
    "import pandas as pd\n",
    "import keyboard\n",
    "\n",
    "\n",
    "\n",
    "\n",
    "class Background(object):\n",
    "        \n",
    "    def __init__(self,dense='',contrast='',feature_speed='',feature_length='',acolor=''): \n",
    "        \n",
    "        self.dense=dense\n",
    "        self.contrast=contrast\n",
    "        self.acolor=acolor\n",
    "        self.feature_speed=feature_speed\n",
    "        self.feature_length=feature_length\n",
    "        \n",
    "    def bar_contrast(self):\n",
    "\n",
    "        if self.contrast == 'L':\n",
    "            self.acolor = vec(0.4,0.4,0.4)\n",
    "            scene.background = vec(0.4,0.4,0.4)\n",
    "        else:\n",
    "            self.acolor = vec(15,15,15)\n",
    "            scene.background = vec(0,0,0)\n",
    "    def draw_figure(self, R = 100):\n",
    "        yellow_bar = box(pos = vector(-450, 160, 50), length=self.feature_length, height=80, width=1, color = color.yellow, shininess = 0)\n",
    "        blue_bar = box(pos = vector(-450, -160, 50), length=self.feature_length, height=80, width=1, color = color.blue, shininess = 0) \n",
    "        time_count = 0\n",
    "        move_way = 'right'\n",
    "        timestamp = 0\n",
    "        while timestamp < 5:\n",
    "            if move_way == 'right':\n",
    "                move_vec = vector(900 / (self.feature_speed * R), 0, 0)\n",
    "            else:\n",
    "                move_vec = vector(-900 / (self.feature_speed * R), 0, 0)\n",
    "            yellow_bar.pos += move_vec\n",
    "            blue_bar.pos += move_vec\n",
    "            if yellow_bar.pos.x >= 450:\n",
    "                move_way = 'left'\n",
    "            elif yellow_bar.pos.x <= -450:\n",
    "                move_way = 'right'\n",
    "            rate(R)\n",
    "            timestamp += 1/R\n",
    "        \n",
    "        yellow_bar.visible = False\n",
    "        blue_bar.visible = False\n",
    "        del yellow_bar\n",
    "        del blue_bar\n",
    "    \n",
    "    def draw_all(self):\n",
    "        asreen=1400\n",
    "        self.bar_contrast()\n",
    "        self.white_one= box(pos = vector(-1400,0,0),length = self.dense,height = 1200,width = 1,color =self.acolor,shininess=0)\n",
    "        self.white_two= box(pos = vector(-1400+2*self.dense,0,0),length = self.dense,height = 1200,width = 1,color =self.acolor,shininess=0)\n",
    "        self.white_three= box(pos = vector(-1400+4*self.dense,0,0),length = self.dense,height = 1200,width = 1,color =self.acolor,shininess=0)\n",
    "        self.white_four= box(pos = vector(-1400+6*self.dense,0,0),length = self.dense,height = 1200,width = 1,color =self.acolor,shininess=0)\n",
    "        self.white_five= box(pos = vector(-1400+8*self.dense,0,0),length = self.dense,height = 1200,width = 1,color =self.acolor,shininess=0)\n",
    "        self.white_six= box(pos = vector(-1400+10*self.dense,0,0),length = self.dense,height = 1200,width = 1,color =self.acolor,shininess=0)\n",
    "        self.white_seven= box(pos = vector(-1400+12*self.dense,0,0),length = self.dense,height = 1200,width = 1,color =self.acolor,shininess=0)\n",
    "        self.white_eight= box(pos = vector(-1400+14*self.dense,0,0),length = self.dense,height = 1200,width = 1,color =self.acolor,shininess=0)\n",
    "        self.white_nine= box(pos = vector(-1400+16*self.dense,0,0),length = self.dense,height = 1200,width = 1,color =self.acolor,shininess=0)\n",
    "        self.white_ten= box(pos = vector(-1400+18*self.dense,0,0),length = self.dense,height = 1200,width = 1,color =self.acolor,shininess=0)\n",
    "        self.white_eleven= box(pos = vector(-1400+20*self.dense,0,0),length = self.dense,height = 1200,width = 1,color =self.acolor,shininess=0)\n",
    "        self.white_twelve= box(pos = vector(-1400+22*self.dense,0,0),length = self.dense,height = 1200,width = 1,color =self.acolor,shininess=0)\n",
    "        self.white_thirteen= box(pos = vector(-1400+24*self.dense,0,0),length = self.dense,height = 1200,width = 1,color =self.acolor,shininess=0)\n",
    "        self.white_forteen= box(pos = vector(-1400+26*self.dense,0,0),length = self.dense,height = 1200,width = 1,color =self.acolor,shininess=0)\n",
    "        self.white_fifteen= box(pos = vector(-1400+28*self.dense,0,0),length = self.dense,height = 1200,width = 1,color =self.acolor,shininess=0)\n",
    "        self.white_sixteen= box(pos = vector(-1400+30*self.dense,0,0),length = self.dense,height = 1200,width = 1,color =self.acolor,shininess=0)\n",
    "        self.white_seventeen= box(pos = vector(-1400+32*self.dense,0,0),length = self.dense,height = 1200,width = 1,color =self.acolor,shininess=0)\n",
    "        self.white_eighteen= box(pos = vector(-1400+34*self.dense,0,0),length = self.dense,height = 1200,width = 1,color =self.acolor,shininess=0)\n",
    "        self.white_nineteen= box(pos = vector(-1400+36*self.dense,0,0),length = self.dense,height = 1200,width = 1,color =self.acolor,shininess=0)\n",
    "        self.white_twenty= box(pos = vector(-1400+38*self.dense,0,0),length = self.dense,height = 1200,width = 1,color =self.acolor,shininess=0)\n",
    "        self.white_twentyone= box(pos = vector(-1400+40*self.dense,0,0),length = self.dense,height = 1200,width = 1,color =self.acolor,shininess=0)\n",
    "        self.white_twentytwo= box(pos = vector(-1400+42*self.dense,0,0),length = self.dense,height = 1200,width = 1,color =self.acolor,shininess=0)\n",
    "        self.white_twentythree= box(pos = vector(-1400+44*self.dense,0,0),length = self.dense,height = 1200,width = 1,color =self.acolor,shininess=0)\n",
    "        self.white_twentyfour= box(pos = vector(-1400+46*self.dense,0,0),length = self.dense,height = 1200,width = 1,color =self.acolor,shininess=0)\n",
    "        self.white_twentyfive= box(pos = vector(-1400+48*self.dense,0,0),length = self.dense,height = 1200,width = 1,color =self.acolor,shininess=0)\n",
    "        self.white_twentysix= box(pos = vector(-1400+50*self.dense,0,0),length = self.dense,height = 1200,width = 1,color =self.acolor,shininess=0)\n",
    "        self.white_twentyseven= box(pos = vector(-1400+52*self.dense,0,0),length = self.dense,height = 1200,width = 1,color =self.acolor,shininess=0)\n",
    "        self.white_twentyeight= box(pos = vector(-1400+54*self.dense,0,0),length = self.dense,height = 1200,width = 1,color =self.acolor,shininess=0)\n",
    "        self.draw_figure()\n",
    "        \n",
    "        self.white_one.visible=False\n",
    "        self.white_two.visible=False\n",
    "        self.white_three.visible=False\n",
    "        self.white_four.visible=False\n",
    "        self.white_five.visible=False\n",
    "        self.white_six.visible=False\n",
    "        self.white_seven.visible=False\n",
    "        self.white_eight.visible=False\n",
    "        self.white_nine.visible=False\n",
    "        self.white_ten.visible=False\n",
    "        self.white_eleven.visible=False\n",
    "        self.white_twelve.visible=False\n",
    "        self.white_thirteen.visible=False\n",
    "        self.white_forteen.visible=False\n",
    "        self.white_fifteen.visible=False\n",
    "        self.white_sixteen.visible=False\n",
    "        self.white_seventeen.visible=False\n",
    "        self.white_eighteen.visible=False\n",
    "        self.white_nineteen.visible=False\n",
    "        self.white_twenty.visible=False\n",
    "        self.white_twentyone.visible=False\n",
    "        self.white_twentytwo.visible=False\n",
    "        self.white_twentythree.visible=False\n",
    "        self.white_twentyfour.visible=False\n",
    "        self.white_twentyfive.visible=False\n",
    "        self.white_twentysix.visible=False\n",
    "        self.white_twentyseven.visible=False\n",
    "        self.white_twentyeight.visible=False\n",
    "        del self.white_one\n",
    "        del self.white_two\n",
    "        del self.white_three\n",
    "        del self.white_four\n",
    "        del self.white_five\n",
    "        del self.white_six\n",
    "        del self.white_seven\n",
    "        del self.white_eight\n",
    "        del self.white_nine\n",
    "        del self.white_ten\n",
    "        del self.white_eleven\n",
    "        del self.white_twelve\n",
    "        del self.white_thirteen\n",
    "        del self.white_forteen\n",
    "        del self.white_fifteen\n",
    "        del self.white_sixteen\n",
    "        del self.white_seventeen\n",
    "        del self.white_eighteen\n",
    "        del self.white_nineteen\n",
    "        del self.white_twenty\n",
    "        del self.white_twentyone\n",
    "        del self.white_twentytwo\n",
    "        del self.white_twentythree\n",
    "        del self.white_twentyfour\n",
    "        del self.white_twentyfive\n",
    "        del self.white_twentysix\n",
    "        del self.white_twentyseven\n",
    "        del self.white_twentyeight\n",
    "        \n",
    "        \n",
    "\n",
    "def record_response(ch_target):\n",
    "    #ch_target should be a list of characters\n",
    "    response = ''\n",
    "    while not response in ch_target:\n",
    "        response = keyboard.read_key()\n",
    "        response = response.name\n",
    "    else:\n",
    "        return response\n",
    "    \n",
    "def write_file(data_dict, id_num, filename = 'data_weipart_single.csv'):\n",
    "\n",
    "    for data in data_dict:\n",
    "        dataframe = pd.read_csv(filename ,sep = ',', index_col='id')\n",
    "        dataframe.loc[id_num,data] = data_dict[data]\n",
    "        dataframe.to_csv(filename)   \n",
    "\n",
    "                \n",
    "def fixation_point(L = 200, H = 10, span = 0.8):\n",
    "    hori = box(pos = vector(0,0,0), axis = vector(1,0,0), length = L, horizontal = H, width = 1)\n",
    "    verti = box(pos = vector(0,0,0), axis = vector(0,1,0), length = L, horizontal = H, width = 1)\n",
    "    sleep(span)\n",
    "    hori.visible = False\n",
    "    verti.visible = False\n",
    "    del hori\n",
    "    del verti   \n",
    "def black_scene(span=0.1):\n",
    "    lala= box(pos = vector(-500,1,0),length = 3000,height = 1200,width = 2,color =vec(0,0,0),shininess=0)\n",
    "    sleep(span)\n",
    "    lala.visible=False\n",
    "    del lala\n",
    "    \n",
    "def pipeline(Background):\n",
    "    feature_speed = [8,12,18]\n",
    "    feature_length = [120,200 ,300]\n",
    "    bar_wigth = [50,150,200]\n",
    "    bar_contrast = [\"L\",\"H\"]\n",
    "    pool = [feature_speed, feature_length, bar_wigth, bar_contrast]\n",
    "    all_combination = []\n",
    "    for i in range(3):\n",
    "        for j in range(3):\n",
    "             for k in range(3):\n",
    "                for l in range(2):\n",
    "                    all_combination.append((i,j,k,l))\n",
    "    random.shuffle(all_combination)\n",
    "    \n",
    "    data_dict = {}\n",
    "    ascene=canvas(title='Test Field',width=1000, height=400,center=vector(0,0,0),background=color.black)\n",
    "    ascene.camera.pos=vector(0,0,1000)\n",
    "    ascene.camera.axis=vector(0,0,-1)\n",
    "    ascene.range=200\n",
    "    ascene.camera.range=2000\n",
    "    \n",
    "    ascene.fov = math.pi/5\n",
    "    ascene.userzoom = True\n",
    "    ascene.userspin = True\n",
    "    ascene.autoscale = False\n",
    "    for i in all_combination:\n",
    "        fixation_point()\n",
    "        textfield=Background(bar_wigth[i[2]],bar_contrast[i[3]],feature_speed[i[0]],feature_length[i[1]],vec(0,0,0))\n",
    "        textfield.draw_all()\n",
    "        black_scene()\n",
    "        result =record_response(['w','p']) \n",
    "        winsound.Beep(3000,500)\n",
    "        index = str(i[3])+str(i[0])+str(i[1])+str(i[2])\n",
    "        if index in data_dict:\n",
    "            data_dict[index].append(result)\n",
    "        else:\n",
    "            data_dict[index] = [result] \n",
    "        \n",
    "    return data_dict\n",
    "'''\n",
    "您好，感謝您參與本測驗。實驗過程中，請與螢幕保持1公尺的距離，並注視畫面中點。\n",
    "請於實驗畫面呈現後(會變全黑)按下作答鍵('w'或'p')。\n",
    "若看到螢幕中黃藍方塊「一前一後」移動，請按「w」；\n",
    "若看到螢幕中黃藍方塊「兩兩平行」移動，請按「p」。\n",
    "實驗畫面不再呈現，請通知實驗者，千萬不要亂動，感恩~~~。\n",
    "'''\n",
    "'''\n",
    "記得改檔名，確認檔案裡的trial是54個\n",
    "'''\n",
    "\n",
    "        \n",
    "data=pipeline(Background)\n",
    "id_num = input('input your id_num')\n",
    "write_file(data, id_num)\n",
    "print('Finsh,Thank you!')"
   ]
  },
  {
   "cell_type": "code",
   "execution_count": 3,
   "metadata": {
    "collapsed": false
   },
   "outputs": [
    {
     "data": {
      "text/html": [
       "<div id=\"glowscript\" class=\"glowscript\"></div>"
      ],
      "text/plain": [
       "<IPython.core.display.HTML object>"
      ]
     },
     "metadata": {},
     "output_type": "display_data"
    },
    {
     "data": {
      "application/javascript": [
       "window.__context = { glowscript_container: $(\"#glowscript\").removeAttr(\"id\")}"
      ],
      "text/plain": [
       "<IPython.core.display.Javascript object>"
      ]
     },
     "metadata": {},
     "output_type": "display_data"
    }
   ],
   "source": [
    "from vpython import *\n",
    "canvas()\n",
    "def black_scene():\n",
    "    lala= box(pos = vector(-500,1,0),length = 1200,height = 1200,width = 2,color =color.white,shininess=0)\n",
    "    lala.visible=False\n",
    "    del lala\n",
    "black_scene()"
   ]
  },
  {
   "cell_type": "code",
   "execution_count": 1,
   "metadata": {
    "collapsed": false
   },
   "outputs": [
    {
     "name": "stdout",
     "output_type": "stream",
     "text": [
      "id,0000,0001,0002,0010,0011,0012,0020,0021,0022,0100,0101,0102,0110,0111,0112,0120,0121,0122,0200,0201,0202,0210,0211,0212,0220,0221,0222,1000,1001,1002,1010,1011,1012,1020,1021,1022,1100,1101,1102,1110,1111,1112,1120,1121,1122,1200,1201,1202,1210,1211,1212,1220,1221,1222\n"
     ]
    }
   ],
   "source": [
    "\n",
    "result=['id']\n",
    "for i in range(2):\n",
    "    for p in range(3):\n",
    "        for k in range(3):\n",
    "            for l in range(3):\n",
    "                result.append(str(i)+str(p)+str(k)+str(l))\n",
    "result=','.join(result)\n",
    "print(result)"
   ]
  },
  {
   "cell_type": "code",
   "execution_count": 4,
   "metadata": {
    "collapsed": false
   },
   "outputs": [
    {
     "ename": "AttributeError",
     "evalue": "'KeyboardEvent' object has no attribute '__name__'",
     "output_type": "error",
     "traceback": [
      "\u001b[0;31m---------------------------------------------------------------------------\u001b[0m",
      "\u001b[0;31mAttributeError\u001b[0m                            Traceback (most recent call last)",
      "\u001b[0;32m<ipython-input-4-a56a975768a2>\u001b[0m in \u001b[0;36m<module>\u001b[0;34m()\u001b[0m\n\u001b[1;32m     16\u001b[0m '''\n\u001b[1;32m     17\u001b[0m \u001b[0mresponse\u001b[0m \u001b[1;33m=\u001b[0m \u001b[0mkeyboard\u001b[0m\u001b[1;33m.\u001b[0m\u001b[0mread_key\u001b[0m\u001b[1;33m(\u001b[0m\u001b[1;33m)\u001b[0m\u001b[1;33m\u001b[0m\u001b[0m\n\u001b[0;32m---> 18\u001b[0;31m \u001b[0mreponse\u001b[0m\u001b[1;33m=\u001b[0m\u001b[0mresponse\u001b[0m\u001b[1;33m.\u001b[0m\u001b[0m__name__\u001b[0m\u001b[1;33m(\u001b[0m\u001b[1;33m)\u001b[0m\u001b[1;33m\u001b[0m\u001b[0m\n\u001b[0m\u001b[1;32m     19\u001b[0m \u001b[0mprint\u001b[0m\u001b[1;33m(\u001b[0m\u001b[0mresponse\u001b[0m\u001b[1;33m)\u001b[0m\u001b[1;33m\u001b[0m\u001b[0m\n",
      "\u001b[0;31mAttributeError\u001b[0m: 'KeyboardEvent' object has no attribute '__name__'"
     ]
    }
   ],
   "source": [
    "\n",
    "import keyboard\n",
    "'''\n",
    "def record_response(ch_target):\n",
    "    #ch_target should be a list of characters\n",
    "    response = ''\n",
    "    while not response in ch_target:\n",
    "        response = keyboard.read_key()\n",
    "        response = response.name\n",
    "    else:\n",
    "        return response\n",
    "\n",
    "\n",
    "a = record_response(['z','m'])\n",
    "print(a)\n",
    "'''\n",
    "response = keyboard.read_key()\n",
    "reponse=response.name\n",
    "print(response)"
   ]
  },
  {
   "cell_type": "markdown",
   "metadata": {
    "collapsed": true
   },
   "source": []
  }
 ],
 "metadata": {
  "kernelspec": {
   "display_name": "VPython",
   "language": "python",
   "name": "vpython"
  },
  "language_info": {
   "codemirror_mode": {
    "name": "ipython",
    "version": 3
   },
   "file_extension": ".py",
   "mimetype": "text/x-python",
   "name": "python",
   "nbconvert_exporter": "python",
   "pygments_lexer": "ipython3",
   "version": "3.6.0"
  }
 },
 "nbformat": 4,
 "nbformat_minor": 2
}
