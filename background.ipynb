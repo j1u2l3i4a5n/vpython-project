{
 "cells": [
  {
   "cell_type": "code",
   "execution_count": null,
   "metadata": {
    "collapsed": false
   },
   "outputs": [
    {
     "data": {
      "application/javascript": [
       "require.undef(\"nbextensions/vpython_libraries/glow.min\");"
      ],
      "text/plain": [
       "<IPython.core.display.Javascript object>"
      ]
     },
     "metadata": {},
     "output_type": "display_data"
    },
    {
     "data": {
      "application/javascript": [
       "require.undef(\"nbextensions/vpython_libraries/glowcomm\");"
      ],
      "text/plain": [
       "<IPython.core.display.Javascript object>"
      ]
     },
     "metadata": {},
     "output_type": "display_data"
    },
    {
     "data": {
      "application/javascript": [
       "require.undef(\"nbextensions/vpython_libraries/jquery-ui.custom.min\");"
      ],
      "text/plain": [
       "<IPython.core.display.Javascript object>"
      ]
     },
     "metadata": {},
     "output_type": "display_data"
    },
    {
     "data": {
      "application/javascript": [
       "require([\"nbextensions/vpython_libraries/glow.min\"], function(){console.log(\"GLOW LOADED\");})"
      ],
      "text/plain": [
       "<IPython.core.display.Javascript object>"
      ]
     },
     "metadata": {},
     "output_type": "display_data"
    },
    {
     "data": {
      "application/javascript": [
       "require([\"nbextensions/vpython_libraries/glowcomm\"], function(){console.log(\"GLOWCOMM LOADED\");})"
      ],
      "text/plain": [
       "<IPython.core.display.Javascript object>"
      ]
     },
     "metadata": {},
     "output_type": "display_data"
    },
    {
     "data": {
      "application/javascript": [
       "require([\"nbextensions/vpython_libraries/jquery-ui.custom.min\"], function(){console.log(\"JQUERY LOADED\");})"
      ],
      "text/plain": [
       "<IPython.core.display.Javascript object>"
      ]
     },
     "metadata": {},
     "output_type": "display_data"
    },
    {
     "data": {
      "text/html": [
       "<div id=\"glowscript\" class=\"glowscript\"></div>"
      ],
      "text/plain": [
       "<IPython.core.display.HTML object>"
      ]
     },
     "metadata": {},
     "output_type": "display_data"
    },
    {
     "data": {
      "application/javascript": [
       "window.__context = { glowscript_container: $(\"#glowscript\").removeAttr(\"id\")}"
      ],
      "text/plain": [
       "<IPython.core.display.Javascript object>"
      ]
     },
     "metadata": {},
     "output_type": "display_data"
    },
    {
     "data": {
      "text/html": [
       "<div id=\"glowscript\" class=\"glowscript\"></div>"
      ],
      "text/plain": [
       "<IPython.core.display.HTML object>"
      ]
     },
     "metadata": {},
     "output_type": "display_data"
    },
    {
     "data": {
      "application/javascript": [
       "window.__context = { glowscript_container: $(\"#glowscript\").removeAttr(\"id\")}"
      ],
      "text/plain": [
       "<IPython.core.display.Javascript object>"
      ]
     },
     "metadata": {},
     "output_type": "display_data"
    }
   ],
   "source": [
    "from vpython import*\n",
    "import math\n",
    "import random\n",
    "import winsound\n",
    "import pandas as pd\n",
    "import keyboard\n",
    "\n",
    "\n",
    "\n",
    "\n",
    "class Background(object):\n",
    "        \n",
    "    def __init__(self,dense='',contrast='',feature_speed='',feature_length='',acolor=''): \n",
    "        \n",
    "        self.dense=dense\n",
    "        self.contrast=contrast\n",
    "        self.acolor=acolor\n",
    "        self.feature_speed=feature_speed\n",
    "        self.feature_length=feature_length\n",
    "        \n",
    "    def bar_contrast(self):\n",
    "\n",
    "        if self.contrast == 'L':\n",
    "            self.acolor = vec(0.4,0.4,0.4)\n",
    "            scene.background = vec(0.4,0.4,0.4)\n",
    "        else:\n",
    "            self.acolor = vec(15,15,15)\n",
    "            scene.background = vec(0,0,0)\n",
    "    def draw_figure(self, R = 100):\n",
    "        yellow_bar = box(pos = vector(-450, 160, 50), length=self.feature_length, height=80, width=1, color = color.yellow, shininess = 0)\n",
    "        blue_bar = box(pos = vector(-450, -160, 50), length=self.feature_length, height=80, width=1, color = color.blue, shininess = 0) \n",
    "        time_count = 0\n",
    "        move_way = 'right'\n",
    "        timestamp = 0\n",
    "        while timestamp < 10:\n",
    "            if move_way == 'right':\n",
    "                move_vec = vector(900 / (self.feature_speed * R), 0, 0)\n",
    "            else:\n",
    "                move_vec = vector(-900 / (self.feature_speed * R), 0, 0)\n",
    "            yellow_bar.pos += move_vec\n",
    "            blue_bar.pos += move_vec\n",
    "            if yellow_bar.pos.x >= 450:\n",
    "                move_way = 'left'\n",
    "            elif yellow_bar.pos.x <= -450:\n",
    "                move_way = 'right'\n",
    "            rate(R)\n",
    "            timestamp += 1/R\n",
    "        \n",
    "        yellow_bar.visible = False\n",
    "        blue_bar.visible = False\n",
    "        del yellow_bar\n",
    "        del blue_bar\n",
    "    \n",
    "    def draw_all(self):\n",
    "        asreen=1400\n",
    "        self.bar_contrast()\n",
    "        self.white_one= box(pos = vector(-1400,0,0),length = self.dense,height = 1200,width = 1,color =self.acolor,shininess=0)\n",
    "        self.white_two= box(pos = vector(-1400+2*self.dense,0,0),length = self.dense,height = 1200,width = 1,color =self.acolor,shininess=0)\n",
    "        self.white_three= box(pos = vector(-1400+4*self.dense,0,0),length = self.dense,height = 1200,width = 1,color =self.acolor,shininess=0)\n",
    "        self.white_four= box(pos = vector(-1400+6*self.dense,0,0),length = self.dense,height = 1200,width = 1,color =self.acolor,shininess=0)\n",
    "        self.white_five= box(pos = vector(-1400+8*self.dense,0,0),length = self.dense,height = 1200,width = 1,color =self.acolor,shininess=0)\n",
    "        self.white_six= box(pos = vector(-1400+10*self.dense,0,0),length = self.dense,height = 1200,width = 1,color =self.acolor,shininess=0)\n",
    "        self.white_seven= box(pos = vector(-1400+12*self.dense,0,0),length = self.dense,height = 1200,width = 1,color =self.acolor,shininess=0)\n",
    "        self.white_eight= box(pos = vector(-1400+14*self.dense,0,0),length = self.dense,height = 1200,width = 1,color =self.acolor,shininess=0)\n",
    "        self.white_nine= box(pos = vector(-1400+16*self.dense,0,0),length = self.dense,height = 1200,width = 1,color =self.acolor,shininess=0)\n",
    "        self.white_ten= box(pos = vector(-1400+18*self.dense,0,0),length = self.dense,height = 1200,width = 1,color =self.acolor,shininess=0)\n",
    "        self.white_eleven= box(pos = vector(-1400+20*self.dense,0,0),length = self.dense,height = 1200,width = 1,color =self.acolor,shininess=0)\n",
    "        self.white_twelve= box(pos = vector(-1400+22*self.dense,0,0),length = self.dense,height = 1200,width = 1,color =self.acolor,shininess=0)\n",
    "        self.white_thirteen= box(pos = vector(-1400+24*self.dense,0,0),length = self.dense,height = 1200,width = 1,color =self.acolor,shininess=0)\n",
    "        self.white_forteen= box(pos = vector(-1400+26*self.dense,0,0),length = self.dense,height = 1200,width = 1,color =self.acolor,shininess=0)\n",
    "        self.white_fifteen= box(pos = vector(-1400+28*self.dense,0,0),length = self.dense,height = 1200,width = 1,color =self.acolor,shininess=0)\n",
    "        self.white_sixteen= box(pos = vector(-1400+30*self.dense,0,0),length = self.dense,height = 1200,width = 1,color =self.acolor,shininess=0)\n",
    "        self.white_seventeen= box(pos = vector(-1400+32*self.dense,0,0),length = self.dense,height = 1200,width = 1,color =self.acolor,shininess=0)\n",
    "        self.white_eighteen= box(pos = vector(-1400+34*self.dense,0,0),length = self.dense,height = 1200,width = 1,color =self.acolor,shininess=0)\n",
    "        self.white_nineteen= box(pos = vector(-1400+36*self.dense,0,0),length = self.dense,height = 1200,width = 1,color =self.acolor,shininess=0)\n",
    "        self.white_twenty= box(pos = vector(-1400+38*self.dense,0,0),length = self.dense,height = 1200,width = 1,color =self.acolor,shininess=0)\n",
    "        self.white_twentyone= box(pos = vector(-1400+40*self.dense,0,0),length = self.dense,height = 1200,width = 1,color =self.acolor,shininess=0)\n",
    "        self.white_twentytwo= box(pos = vector(-1400+42*self.dense,0,0),length = self.dense,height = 1200,width = 1,color =self.acolor,shininess=0)\n",
    "        self.white_twentythree= box(pos = vector(-1400+44*self.dense,0,0),length = self.dense,height = 1200,width = 1,color =self.acolor,shininess=0)\n",
    "        self.white_twentyfour= box(pos = vector(-1400+46*self.dense,0,0),length = self.dense,height = 1200,width = 1,color =self.acolor,shininess=0)\n",
    "        self.white_twentyfive= box(pos = vector(-1400+48*self.dense,0,0),length = self.dense,height = 1200,width = 1,color =self.acolor,shininess=0)\n",
    "        self.white_twentysix= box(pos = vector(-1400+50*self.dense,0,0),length = self.dense,height = 1200,width = 1,color =self.acolor,shininess=0)\n",
    "        self.white_twentyseven= box(pos = vector(-1400+52*self.dense,0,0),length = self.dense,height = 1200,width = 1,color =self.acolor,shininess=0)\n",
    "        self.white_twentyeight= box(pos = vector(-1400+54*self.dense,0,0),length = self.dense,height = 1200,width = 1,color =self.acolor,shininess=0)\n",
    "        self.draw_figure()\n",
    "        \n",
    "        self.white_one.visible=False\n",
    "        self.white_two.visible=False\n",
    "        self.white_three.visible=False\n",
    "        self.white_four.visible=False\n",
    "        self.white_five.visible=False\n",
    "        self.white_six.visible=False\n",
    "        self.white_seven.visible=False\n",
    "        self.white_eight.visible=False\n",
    "        self.white_nine.visible=False\n",
    "        self.white_ten.visible=False\n",
    "        self.white_eleven.visible=False\n",
    "        self.white_twelve.visible=False\n",
    "        self.white_thirteen.visible=False\n",
    "        self.white_forteen.visible=False\n",
    "        self.white_fifteen.visible=False\n",
    "        self.white_sixteen.visible=False\n",
    "        self.white_seventeen.visible=False\n",
    "        self.white_eighteen.visible=False\n",
    "        self.white_nineteen.visible=False\n",
    "        self.white_twenty.visible=False\n",
    "        self.white_twentyone.visible=False\n",
    "        self.white_twentytwo.visible=False\n",
    "        self.white_twentythree.visible=False\n",
    "        self.white_twentyfour.visible=False\n",
    "        self.white_twentyfive.visible=False\n",
    "        self.white_twentysix.visible=False\n",
    "        self.white_twentyseven.visible=False\n",
    "        self.white_twentyeight.visible=False\n",
    "        del self.white_one\n",
    "        del self.white_two\n",
    "        del self.white_three\n",
    "        del self.white_four\n",
    "        del self.white_five\n",
    "        del self.white_six\n",
    "        del self.white_seven\n",
    "        del self.white_eight\n",
    "        del self.white_nine\n",
    "        del self.white_ten\n",
    "        del self.white_eleven\n",
    "        del self.white_twelve\n",
    "        del self.white_thirteen\n",
    "        del self.white_forteen\n",
    "        del self.white_fifteen\n",
    "        del self.white_sixteen\n",
    "        del self.white_seventeen\n",
    "        del self.white_eighteen\n",
    "        del self.white_nineteen\n",
    "        del self.white_twenty\n",
    "        del self.white_twentyone\n",
    "        del self.white_twentytwo\n",
    "        del self.white_twentythree\n",
    "        del self.white_twentyfour\n",
    "        del self.white_twentyfive\n",
    "        del self.white_twentysix\n",
    "        del self.white_twentyseven\n",
    "        del self.white_twentyeight\n",
    "        \n",
    "        \n",
    "\n",
    "def record_response(ch_target):\n",
    "    #ch_target should be a list of characters\n",
    "    response = ''\n",
    "    while not response in ch_target:\n",
    "        response = keyboard.read_key()\n",
    "        response = response.name\n",
    "    else:\n",
    "        return response\n",
    "    \n",
    "def write_file(data_dict, id_num, filename = 'data.csv'):\n",
    "\n",
    "    for data in data_dict:\n",
    "        dataframe = pd.read_csv(filename ,sep = ',', index_col='id')\n",
    "        dataframe.loc[id_num,data] = data_dict[data]\n",
    "        dataframe.to_csv(filename)   \n",
    "\n",
    "                \n",
    "def fixation_point(L = 200, H = 10, span = 0.8):\n",
    "    hori = box(pos = vector(0,0,0), axis = vector(1,0,0), length = L, horizontal = H, width = 1)\n",
    "    verti = box(pos = vector(0,0,0), axis = vector(0,1,0), length = L, horizontal = H, width = 1)\n",
    "    sleep(span)\n",
    "    hori.visible = False\n",
    "    verti.visible = False\n",
    "    del hori\n",
    "    del verti   \n",
    "def black_scene(span=0.1):\n",
    "    lala= box(pos = vector(-500,1,0),length = 3000,height = 1200,width = 2,color =vec(0,0,0),shininess=0)\n",
    "    sleep(span)\n",
    "    lala.visible=False\n",
    "    del lala\n",
    "    \n",
    "def pipeline(Background):\n",
    "    feature_speed = [8,12,18]\n",
    "    feature_length = [120,200 ,300]\n",
    "    bar_wigth = [50,150,200]\n",
    "    bar_contrast = [\"L\",\"H\"]\n",
    "    pool = [feature_speed, feature_length, bar_wigth, bar_contrast]\n",
    "    all_combination = []\n",
    "    for t in range(2):\n",
    "        for i in range(3):\n",
    "            for j in range(3):\n",
    "                for k in range(3):\n",
    "                    for l in range(2):\n",
    "                        all_combination.append((t,i,j,k,l))\n",
    "    random.shuffle(all_combination)\n",
    "    \n",
    "    data_dict = {}\n",
    "    ascene=canvas(title='Test Field',width=1000, height=400,center=vector(0,0,0),background=color.black)\n",
    "    ascene.camera.pos=vector(0,0,1000)\n",
    "    ascene.camera.axis=vector(0,0,-1)\n",
    "    ascene.range=200\n",
    "    ascene.camera.range=2000\n",
    "    \n",
    "    ascene.fov = math.pi/5\n",
    "    ascene.userzoom = True\n",
    "    ascene.userspin = True\n",
    "    ascene.autoscale = False\n",
    "    for i in all_combination:\n",
    "        fixation_point()\n",
    "        textfield=Background(bar_wigth[i[3]],bar_contrast[i[4]],feature_speed[i[1]],feature_length[i[2]],vec(0,0,0))\n",
    "        textfield.draw_all()\n",
    "        black_scene()\n",
    "        result =record_response(['w','p']) \n",
    "        winsound.Beep(3000,500)\n",
    "        index = str(i[0])+str(i[1])+str(i[2])+str(i[3])+str(i[4])\n",
    "        if index in data_dict:\n",
    "            data_dict[index].append(result)\n",
    "        else:\n",
    "            data_dict[index] = [result]    \n",
    "    return data_dict\n",
    "\n",
    "\n",
    "        \n",
    "data=pipeline(Background)\n",
    "id_num = raw_input('input your id_num')\n",
    "write_file(data, id_num)"
   ]
  },
  {
   "cell_type": "code",
   "execution_count": 3,
   "metadata": {
    "collapsed": false
   },
   "outputs": [
    {
     "data": {
      "text/html": [
       "<div id=\"glowscript\" class=\"glowscript\"></div>"
      ],
      "text/plain": [
       "<IPython.core.display.HTML object>"
      ]
     },
     "metadata": {},
     "output_type": "display_data"
    },
    {
     "data": {
      "application/javascript": [
       "window.__context = { glowscript_container: $(\"#glowscript\").removeAttr(\"id\")}"
      ],
      "text/plain": [
       "<IPython.core.display.Javascript object>"
      ]
     },
     "metadata": {},
     "output_type": "display_data"
    }
   ],
   "source": [
    "from vpython import *\n",
    "canvas()\n",
    "def black_scene():\n",
    "    lala= box(pos = vector(-500,1,0),length = 1200,height = 1200,width = 2,color =color.white,shininess=0)\n",
    "    lala.visible=False\n",
    "    del lala\n",
    "black_scene()"
   ]
  },
  {
   "cell_type": "code",
   "execution_count": 9,
   "metadata": {
    "collapsed": false
   },
   "outputs": [
    {
     "ename": "ValueError",
     "evalue": "I/O operation on closed file.",
     "output_type": "error",
     "traceback": [
      "\u001b[0;31m---------------------------------------------------------------------------\u001b[0m",
      "\u001b[0;31mValueError\u001b[0m                                Traceback (most recent call last)",
      "\u001b[0;32m<ipython-input-9-5e87f6755df0>\u001b[0m in \u001b[0;36m<module>\u001b[0;34m()\u001b[0m\n\u001b[1;32m     21\u001b[0m \u001b[0mid_num\u001b[0m\u001b[1;33m=\u001b[0m\u001b[1;34m'b04207053'\u001b[0m\u001b[1;33m\u001b[0m\u001b[0m\n\u001b[1;32m     22\u001b[0m \u001b[0mdata\u001b[0m\u001b[1;33m=\u001b[0m\u001b[1;33m{\u001b[0m\u001b[1;36m00000\u001b[0m\u001b[1;33m:\u001b[0m\u001b[1;34m'n'\u001b[0m\u001b[1;33m,\u001b[0m\u001b[1;36m11112\u001b[0m\u001b[1;33m:\u001b[0m\u001b[1;34m'z'\u001b[0m\u001b[1;33m,\u001b[0m\u001b[1;36m11113\u001b[0m\u001b[1;33m:\u001b[0m\u001b[1;34m'n'\u001b[0m\u001b[1;33m}\u001b[0m\u001b[1;33m\u001b[0m\u001b[0m\n\u001b[0;32m---> 23\u001b[0;31m \u001b[0mwrite_file\u001b[0m\u001b[1;33m(\u001b[0m\u001b[0mid_num\u001b[0m\u001b[1;33m,\u001b[0m\u001b[0mdata\u001b[0m\u001b[1;33m)\u001b[0m\u001b[1;33m\u001b[0m\u001b[0m\n\u001b[0m",
      "\u001b[0;32m<ipython-input-9-5e87f6755df0>\u001b[0m in \u001b[0;36mwrite_file\u001b[0;34m(id_num, data, filename)\u001b[0m\n\u001b[1;32m     18\u001b[0m             \u001b[0mfiles\u001b[0m\u001b[1;33m.\u001b[0m\u001b[0mwrite\u001b[0m\u001b[1;33m(\u001b[0m\u001b[0mdata\u001b[0m\u001b[1;33m[\u001b[0m\u001b[0mi\u001b[0m\u001b[1;33m]\u001b[0m \u001b[1;33m+\u001b[0m \u001b[1;34m','\u001b[0m\u001b[1;33m)\u001b[0m\u001b[1;33m\u001b[0m\u001b[0m\n\u001b[1;32m     19\u001b[0m \u001b[1;33m\u001b[0m\u001b[0m\n\u001b[0;32m---> 20\u001b[0;31m     \u001b[0mfiles\u001b[0m\u001b[1;33m.\u001b[0m\u001b[0mwrite\u001b[0m\u001b[1;33m(\u001b[0m\u001b[1;34m'\\n'\u001b[0m\u001b[1;33m)\u001b[0m\u001b[1;33m\u001b[0m\u001b[0m\n\u001b[0m\u001b[1;32m     21\u001b[0m \u001b[0mid_num\u001b[0m\u001b[1;33m=\u001b[0m\u001b[1;34m'b04207053'\u001b[0m\u001b[1;33m\u001b[0m\u001b[0m\n\u001b[1;32m     22\u001b[0m \u001b[0mdata\u001b[0m\u001b[1;33m=\u001b[0m\u001b[1;33m{\u001b[0m\u001b[1;36m00000\u001b[0m\u001b[1;33m:\u001b[0m\u001b[1;34m'n'\u001b[0m\u001b[1;33m,\u001b[0m\u001b[1;36m11112\u001b[0m\u001b[1;33m:\u001b[0m\u001b[1;34m'z'\u001b[0m\u001b[1;33m,\u001b[0m\u001b[1;36m11113\u001b[0m\u001b[1;33m:\u001b[0m\u001b[1;34m'n'\u001b[0m\u001b[1;33m}\u001b[0m\u001b[1;33m\u001b[0m\u001b[0m\n",
      "\u001b[0;31mValueError\u001b[0m: I/O operation on closed file."
     ]
    }
   ],
   "source": [
    "\n",
    "result=['id']\n",
    "for i in range(2):\n",
    "    for p in range(3):\n",
    "        for k in range(3):\n",
    "            for l in range(3):\n",
    "                for n in range(2):\n",
    "                   result.append(str(i)+str(p)+str(k)+str(l)+str(n))\n",
    "result=','.join(result)"
   ]
  },
  {
   "cell_type": "code",
   "execution_count": 4,
   "metadata": {
    "collapsed": false
   },
   "outputs": [
    {
     "ename": "AttributeError",
     "evalue": "'KeyboardEvent' object has no attribute '__name__'",
     "output_type": "error",
     "traceback": [
      "\u001b[0;31m---------------------------------------------------------------------------\u001b[0m",
      "\u001b[0;31mAttributeError\u001b[0m                            Traceback (most recent call last)",
      "\u001b[0;32m<ipython-input-4-a56a975768a2>\u001b[0m in \u001b[0;36m<module>\u001b[0;34m()\u001b[0m\n\u001b[1;32m     16\u001b[0m '''\n\u001b[1;32m     17\u001b[0m \u001b[0mresponse\u001b[0m \u001b[1;33m=\u001b[0m \u001b[0mkeyboard\u001b[0m\u001b[1;33m.\u001b[0m\u001b[0mread_key\u001b[0m\u001b[1;33m(\u001b[0m\u001b[1;33m)\u001b[0m\u001b[1;33m\u001b[0m\u001b[0m\n\u001b[0;32m---> 18\u001b[0;31m \u001b[0mreponse\u001b[0m\u001b[1;33m=\u001b[0m\u001b[0mresponse\u001b[0m\u001b[1;33m.\u001b[0m\u001b[0m__name__\u001b[0m\u001b[1;33m(\u001b[0m\u001b[1;33m)\u001b[0m\u001b[1;33m\u001b[0m\u001b[0m\n\u001b[0m\u001b[1;32m     19\u001b[0m \u001b[0mprint\u001b[0m\u001b[1;33m(\u001b[0m\u001b[0mresponse\u001b[0m\u001b[1;33m)\u001b[0m\u001b[1;33m\u001b[0m\u001b[0m\n",
      "\u001b[0;31mAttributeError\u001b[0m: 'KeyboardEvent' object has no attribute '__name__'"
     ]
    }
   ],
   "source": [
    "\n",
    "import keyboard\n",
    "'''\n",
    "def record_response(ch_target):\n",
    "    #ch_target should be a list of characters\n",
    "    response = ''\n",
    "    while not response in ch_target:\n",
    "        response = keyboard.read_key()\n",
    "        response = response.name\n",
    "    else:\n",
    "        return response\n",
    "\n",
    "\n",
    "a = record_response(['z','m'])\n",
    "print(a)\n",
    "'''\n",
    "response = keyboard.read_key()\n",
    "reponse=response.name\n",
    "print(response)"
   ]
  },
  {
   "cell_type": "markdown",
   "metadata": {
    "collapsed": true
   },
   "source": []
  }
 ],
 "metadata": {
  "kernelspec": {
   "display_name": "VPython",
   "language": "python",
   "name": "vpython"
  },
  "language_info": {
   "codemirror_mode": {
    "name": "ipython",
    "version": 3
   },
   "file_extension": ".py",
   "mimetype": "text/x-python",
   "name": "python",
   "nbconvert_exporter": "python",
   "pygments_lexer": "ipython3",
   "version": "3.6.0"
  }
 },
 "nbformat": 4,
 "nbformat_minor": 2
}
