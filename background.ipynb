{
 "cells": [
  {
   "cell_type": "code",
   "execution_count": 1,
   "metadata": {
    "collapsed": false
   },
   "outputs": [
    {
     "data": {
      "application/javascript": [
       "require.undef(\"nbextensions/vpython_libraries/glow.min\");"
      ],
      "text/plain": [
       "<IPython.core.display.Javascript object>"
      ]
     },
     "metadata": {},
     "output_type": "display_data"
    },
    {
     "data": {
      "application/javascript": [
       "require.undef(\"nbextensions/vpython_libraries/glowcomm\");"
      ],
      "text/plain": [
       "<IPython.core.display.Javascript object>"
      ]
     },
     "metadata": {},
     "output_type": "display_data"
    },
    {
     "data": {
      "application/javascript": [
       "require.undef(\"nbextensions/vpython_libraries/jquery-ui.custom.min\");"
      ],
      "text/plain": [
       "<IPython.core.display.Javascript object>"
      ]
     },
     "metadata": {},
     "output_type": "display_data"
    },
    {
     "data": {
      "application/javascript": [
       "require([\"nbextensions/vpython_libraries/glow.min\"], function(){console.log(\"GLOW LOADED\");})"
      ],
      "text/plain": [
       "<IPython.core.display.Javascript object>"
      ]
     },
     "metadata": {},
     "output_type": "display_data"
    },
    {
     "data": {
      "application/javascript": [
       "require([\"nbextensions/vpython_libraries/glowcomm\"], function(){console.log(\"GLOWCOMM LOADED\");})"
      ],
      "text/plain": [
       "<IPython.core.display.Javascript object>"
      ]
     },
     "metadata": {},
     "output_type": "display_data"
    },
    {
     "data": {
      "application/javascript": [
       "require([\"nbextensions/vpython_libraries/jquery-ui.custom.min\"], function(){console.log(\"JQUERY LOADED\");})"
      ],
      "text/plain": [
       "<IPython.core.display.Javascript object>"
      ]
     },
     "metadata": {},
     "output_type": "display_data"
    },
    {
     "data": {
      "text/html": [
       "<div id=\"glowscript\" class=\"glowscript\"></div>"
      ],
      "text/plain": [
       "<IPython.core.display.HTML object>"
      ]
     },
     "metadata": {},
     "output_type": "display_data"
    },
    {
     "data": {
      "application/javascript": [
       "window.__context = { glowscript_container: $(\"#glowscript\").removeAttr(\"id\")}"
      ],
      "text/plain": [
       "<IPython.core.display.Javascript object>"
      ]
     },
     "metadata": {},
     "output_type": "display_data"
    },
    {
     "data": {
      "text/html": [
       "<div id=\"glowscript\" class=\"glowscript\"></div>"
      ],
      "text/plain": [
       "<IPython.core.display.HTML object>"
      ]
     },
     "metadata": {},
     "output_type": "display_data"
    },
    {
     "data": {
      "application/javascript": [
       "window.__context = { glowscript_container: $(\"#glowscript\").removeAttr(\"id\")}"
      ],
      "text/plain": [
       "<IPython.core.display.Javascript object>"
      ]
     },
     "metadata": {},
     "output_type": "display_data"
    },
    {
     "ename": "NameError",
     "evalue": "name 'result' is not defined",
     "output_type": "error",
     "traceback": [
      "\u001b[0;31m---------------------------------------------------------------------------\u001b[0m",
      "\u001b[0;31mNameError\u001b[0m                                 Traceback (most recent call last)",
      "\u001b[0;32m<ipython-input-1-9fe072db314a>\u001b[0m in \u001b[0;36m<module>\u001b[0;34m()\u001b[0m\n\u001b[1;32m    119\u001b[0m \u001b[1;33m\u001b[0m\u001b[0m\n\u001b[1;32m    120\u001b[0m \u001b[1;33m\u001b[0m\u001b[0m\n\u001b[0;32m--> 121\u001b[0;31m \u001b[0mpipeline\u001b[0m\u001b[1;33m(\u001b[0m\u001b[0mBackground\u001b[0m\u001b[1;33m)\u001b[0m\u001b[1;33m\u001b[0m\u001b[0m\n\u001b[0m\u001b[1;32m    122\u001b[0m \u001b[1;33m\u001b[0m\u001b[0m\n\u001b[1;32m    123\u001b[0m \u001b[1;33m\u001b[0m\u001b[0m\n",
      "\u001b[0;32m<ipython-input-1-9fe072db314a>\u001b[0m in \u001b[0;36mpipeline\u001b[0;34m(Background)\u001b[0m\n\u001b[1;32m    105\u001b[0m             \u001b[0mdata_dict\u001b[0m\u001b[1;33m[\u001b[0m\u001b[0mindex\u001b[0m\u001b[1;33m]\u001b[0m\u001b[1;33m.\u001b[0m\u001b[0mappend\u001b[0m\u001b[1;33m(\u001b[0m\u001b[0mresult\u001b[0m\u001b[1;33m)\u001b[0m\u001b[1;33m\u001b[0m\u001b[0m\n\u001b[1;32m    106\u001b[0m         \u001b[1;32melse\u001b[0m\u001b[1;33m:\u001b[0m\u001b[1;33m\u001b[0m\u001b[0m\n\u001b[0;32m--> 107\u001b[0;31m             \u001b[0mdata_dict\u001b[0m\u001b[1;33m[\u001b[0m\u001b[0mindex\u001b[0m\u001b[1;33m]\u001b[0m \u001b[1;33m=\u001b[0m \u001b[1;33m[\u001b[0m\u001b[0mresult\u001b[0m\u001b[1;33m]\u001b[0m\u001b[1;33m\u001b[0m\u001b[0m\n\u001b[0m\u001b[1;32m    108\u001b[0m \u001b[1;33m\u001b[0m\u001b[0m\n\u001b[1;32m    109\u001b[0m \u001b[1;33m\u001b[0m\u001b[0m\n",
      "\u001b[0;31mNameError\u001b[0m: name 'result' is not defined"
     ]
    }
   ],
   "source": [
    "from vpython import*\n",
    "import math\n",
    "import random\n",
    "import winsound\n",
    "\n",
    "\n",
    "    \n",
    "\n",
    "\n",
    "class Background(object):\n",
    "        \n",
    "    def __init__(self,dense='',contrast='',feature_speed='',feature_length='',acolor=''): \n",
    "        \n",
    "        self.dense=dense\n",
    "        self.contrast=contrast\n",
    "        self.acolor=acolor\n",
    "        self.feature_speed=feature_speed\n",
    "        self.feature_length=feature_length\n",
    "        \n",
    "    def bar_contrast(self):\n",
    "\n",
    "        if self.contrast == 'L':\n",
    "            self.acolor = vec(0.4,0.4,0.4)\n",
    "            scene.background = vec(0.4,0.4,0.4)\n",
    "        else:\n",
    "            self.acolor = vec(15,15,15)\n",
    "            scene.background = vec(0,0,0)\n",
    "    def draw_figure(self, R = 100):\n",
    "        yellow_bar = box(pos = vector(-450, 160, 50), length=self.feature_length, height=80, width=1, color = color.yellow, shininess = 0)\n",
    "        blue_bar = box(pos = vector(-450, -160, 50), length=self.feature_length, height=80, width=1, color = color.blue, shininess = 0) \n",
    "        time_count = 0\n",
    "        move_way = 'right'\n",
    "        timestamp = 0\n",
    "        while timestamp < 10:\n",
    "            if move_way == 'right':\n",
    "                move_vec = vector(900 / (self.feature_speed * R), 0, 0)\n",
    "            else:\n",
    "                move_vec = vector(-900 / (self.feature_speed * R), 0, 0)\n",
    "            yellow_bar.pos += move_vec\n",
    "            blue_bar.pos += move_vec\n",
    "            if yellow_bar.pos.x >= 450:\n",
    "                move_way = 'left'\n",
    "            elif yellow_bar.pos.x <= -450:\n",
    "                move_way = 'right'\n",
    "            rate(R)\n",
    "            timestamp += 1/R\n",
    "        \n",
    "        yellow_bar.visible = False\n",
    "        blue_bar.visible = False\n",
    "        del yellow_bar\n",
    "        del blue_bar\n",
    "    def draw_all(self):\n",
    "        asreen=1400\n",
    "        self.bar_contrast()\n",
    "        self.white_one= box(pos = vector(-1400,0,0),length = self.dense,height = 1200,width = 1,color =self.acolor,shininess=0)\n",
    "        self.white_two= box(pos = vector(-1400+2*self.dense,0,0),length = self.dense,height = 1200,width = 1,color =self.acolor,shininess=0)\n",
    "        self.white_three= box(pos = vector(-1400+4*self.dense,0,0),length = self.dense,height = 1200,width = 1,color =self.acolor,shininess=0)\n",
    "        self.white_four= box(pos = vector(-1400+6*self.dense,0,0),length = self.dense,height = 1200,width = 1,color =self.acolor,shininess=0)\n",
    "        self.white_five= box(pos = vector(-1400+8*self.dense,0,0),length = self.dense,height = 1200,width = 1,color =self.acolor,shininess=0)\n",
    "        self.white_six= box(pos = vector(-1400+10*self.dense,0,0),length = self.dense,height = 1200,width = 1,color =self.acolor,shininess=0)\n",
    "        self.white_seven= box(pos = vector(-1400+12*self.dense,0,0),length = self.dense,height = 1200,width = 1,color =self.acolor,shininess=0)\n",
    "        self.white_eight= box(pos = vector(-1400+14*self.dense,0,0),length = self.dense,height = 1200,width = 1,color =self.acolor,shininess=0)\n",
    "        self.white_nine= box(pos = vector(-1400+16*self.dense,0,0),length = self.dense,height = 1200,width = 1,color =self.acolor,shininess=0)\n",
    "        self.white_ten= box(pos = vector(-1400+18*self.dense,0,0),length = self.dense,height = 1200,width = 1,color =self.acolor,shininess=0)\n",
    "        self.white_eleven= box(pos = vector(-1400+20*self.dense,0,0),length = self.dense,height = 1200,width = 1,color =self.acolor,shininess=0)\n",
    "        self.white_twelve= box(pos = vector(-1400+22*self.dense,0,0),length = self.dense,height = 1200,width = 1,color =self.acolor,shininess=0)\n",
    "        self.white_thirteen= box(pos = vector(-1400+24*self.dense,0,0),length = self.dense,height = 1200,width = 1,color =self.acolor,shininess=0)\n",
    "        self.white_forteen= box(pos = vector(-1400+26*self.dense,0,0),length = self.dense,height = 1200,width = 1,color =self.acolor,shininess=0)\n",
    "        self.white_fifteen= box(pos = vector(-1400+28*self.dense,0,0),length = self.dense,height = 1200,width = 1,color =self.acolor,shininess=0)\n",
    "        self.white_sixteen= box(pos = vector(-1400+30*self.dense,0,0),length = self.dense,height = 1200,width = 1,color =self.acolor,shininess=0)\n",
    "        self.white_seventeen= box(pos = vector(-1400+32*self.dense,0,0),length = self.dense,height = 1200,width = 1,color =self.acolor,shininess=0)\n",
    "        self.white_eighteen= box(pos = vector(-1400+34*self.dense,0,0),length = self.dense,height = 1200,width = 1,color =self.acolor,shininess=0)\n",
    "        self.white_nineteen= box(pos = vector(-1400+36*self.dense,0,0),length = self.dense,height = 1200,width = 1,color =self.acolor,shininess=0)\n",
    "        self.white_twenty= box(pos = vector(-1400+38*self.dense,0,0),length = self.dense,height = 1200,width = 1,color =self.acolor,shininess=0)\n",
    "        self.white_twentyone= box(pos = vector(-1400+40*self.dense,0,0),length = self.dense,height = 1200,width = 1,color =self.acolor,shininess=0)\n",
    "        self.white_twentytwo= box(pos = vector(-1400+42*self.dense,0,0),length = self.dense,height = 1200,width = 1,color =self.acolor,shininess=0)\n",
    "        self.white_twentythree= box(pos = vector(-1400+44*self.dense,0,0),length = self.dense,height = 1200,width = 1,color =self.acolor,shininess=0)\n",
    "        self.white_twentyfour= box(pos = vector(-1400+46*self.dense,0,0),length = self.dense,height = 1200,width = 1,color =self.acolor,shininess=0)\n",
    "        self.white_twentyfive= box(pos = vector(-1400+48*self.dense,0,0),length = self.dense,height = 1200,width = 1,color =self.acolor,shininess=0)\n",
    "        self.white_twentysix= box(pos = vector(-1400+50*self.dense,0,0),length = self.dense,height = 1200,width = 1,color =self.acolor,shininess=0)\n",
    "        self.white_twentyseven= box(pos = vector(-1400+52*self.dense,0,0),length = self.dense,height = 1200,width = 1,color =self.acolor,shininess=0)\n",
    "        self.white_twentyeight= box(pos = vector(-1400+54*self.dense,0,0),length = self.dense,height = 1200,width = 1,color =self.acolor,shininess=0)\n",
    "        self.draw_figure()\n",
    "        self.white_one.visible=False\n",
    "        self.white_two.visible=False\n",
    "        self.white_three.visible=False\n",
    "        self.white_four.visible=False\n",
    "        self.white_five.visible=False\n",
    "        self.white_six.visible=False\n",
    "        self.white_seven.visible=False\n",
    "        self.white_eight.visible=False\n",
    "        self.white_nine.visible=False\n",
    "        self.white_ten.visible=False\n",
    "        self.white_eleven.visible=False\n",
    "        self.white_twelve.visible=False\n",
    "        self.white_thirteen.visible=False\n",
    "        self.white_forteen.visible=False\n",
    "        self.white_fifteen.visible=False\n",
    "        self.white_sixteen.visible=False\n",
    "        self.white_seventeen.visible=False\n",
    "        self.white_eighteen.visible=False\n",
    "        self.white_nineteen.visible=False\n",
    "        self.white_twenty.visible=False\n",
    "        self.white_twentyone.visible=False\n",
    "        self.white_twentytwo.visible=False\n",
    "        self.white_twentythree.visible=False\n",
    "        self.white_twentyfour.visible=False\n",
    "        self.white_twentyfive.visible=False\n",
    "        self.white_twentysix.visible=False\n",
    "        self.white_twentyseven.visible=False\n",
    "        self.white_twentyeight.visible=False\n",
    "        del self.white_one\n",
    "        del self.white_two\n",
    "        del self.white_three\n",
    "        del self.white_four\n",
    "        del self.white_five\n",
    "        del self.white_six\n",
    "        del self.white_seven\n",
    "        del self.white_eight\n",
    "        del self.white_nine\n",
    "        del self.white_ten\n",
    "        del self.white_eleven\n",
    "        del self.white_twelve\n",
    "        del self.white_thirteen\n",
    "        del self.white_forteen\n",
    "        del self.white_fifteen\n",
    "        del self.white_sixteen\n",
    "        del self.white_seventeen\n",
    "        del self.white_eighteen\n",
    "        del self.white_nineteen\n",
    "        del self.white_twenty\n",
    "        del self.white_twentyone\n",
    "        del self.white_twentytwo\n",
    "        del self.white_twentythree\n",
    "        del self.white_twentyfour\n",
    "        del self.white_twentyfive\n",
    "        del self.white_twentysix\n",
    "        del self.white_twentyseven\n",
    "        del self.white_twentyeight\n",
    "            \n",
    "                \n",
    "def fixation_point(L = 100, H = 10, span = 0.8):\n",
    "    hori = box(pos = vector(0,0,0), axis = vector(1,0,0), length = L, horizontal = H, width = 1)\n",
    "    verti = box(pos = vector(0,0,0), axis = vector(0,1,0), length = L, horizontal = H, width = 1)\n",
    "    sleep(span)\n",
    "    hori.visible = False\n",
    "    verti.visible = False\n",
    "    del hori\n",
    "    del verti   \n",
    "    \n",
    "def pipeline(Background):\n",
    "    feature_speed = [10,12,16]\n",
    "    feature_length = [120,200 ,300]\n",
    "    bar_wigth = [50,150,200]\n",
    "    bar_contrast = [\"L\",\"H\"]\n",
    "    pool = [feature_speed, feature_length, bar_wigth, bar_contrast]\n",
    "    all_combination = []\n",
    "    for t in range(2):\n",
    "        for i in range(3):\n",
    "            for j in range(3):\n",
    "                for k in range(3):\n",
    "                    for l in range(2):\n",
    "                        all_combination.append((t,i,j,k,l))\n",
    "    random.shuffle(all_combination)\n",
    "    \n",
    "    data_dict = {}\n",
    "    ascene=canvas(title='Test Field',width=1000, height=400,center=vector(0,0,0),background=color.black)\n",
    "    ascene.camera.pos=vector(0,0,1000)\n",
    "    ascene.camera.axis=vector(0,0,-1)\n",
    "    ascene.range=200\n",
    "    ascene.camera.range=2000\n",
    "    \n",
    "    ascene.fov = math.pi/5\n",
    "    ascene.userzoom = True\n",
    "    ascene.userspin = True\n",
    "    ascene.autoscale = False\n",
    "    for i in all_combination:\n",
    "        fixation_point()\n",
    "        textfield=Background(bar_wigth[i[3]],bar_contrast[i[4]],feature_speed[i[1]],feature_length[i[2]],vec(0,0,0))\n",
    "        textfield.draw_all()\n",
    "        result = input()\n",
    "        winsound.Beep(3000,500)\n",
    "        index = str(i[0])+str(i[1])+str(i[2])+str(i[3])+str(i[4])\n",
    "        if index in data_dict:\n",
    "            data_dict[index].append(result)\n",
    "        else:\n",
    "            data_dict[index] = [result]    \n",
    "    return data_dict\n",
    "        \n",
    "    \n",
    "#def write_file(filename = 'data.csv', id_num, data):\n",
    "    #with open(filename, 'a') as files:\n",
    "       # files.write('%s,'%(id_num))\n",
    "       #for i in data:\n",
    "            #files.write(data[i])\n",
    "            \n",
    "       #files.write('\\n')\n",
    "        \n",
    "data=pipeline(Background)"
   ]
  },
  {
   "cell_type": "markdown",
   "metadata": {},
   "source": []
  },
  {
   "cell_type": "code",
   "execution_count": 5,
   "metadata": {
    "collapsed": false
   },
   "outputs": [],
   "source": [
    "\n",
    "def write_file(id_num, data,filename = 'data.csv'):\n",
    "    with open(filename, 'a') as files: \n",
    "        for i in data:\n",
    "            files.writerow(data[i])\n",
    "            files.write('\\n')\n",
    "            \n",
    "        files.write('%s,'%(id_num))\n",
    "id_num='b04207053'\n",
    "data={11111:'n',11112:'z',11113:'n'}\n",
    "write_file(id_num,data)\n"
   ]
  },
  {
   "cell_type": "code",
   "execution_count": 3,
   "metadata": {
    "collapsed": false
   },
   "outputs": [
    {
     "name": "stdout",
     "output_type": "stream",
     "text": [
      "dict_values(['n', 'z', 'n'])\n"
     ]
    }
   ],
   "source": [
    "import csv\n",
    "data={11111:'n',11112:'z',11113:'n'}\n",
    "with open('data.csv','a') as files:\n",
    "    file = csv.writer(files)\n",
    "    file.writerow(data.keys())\n",
    "    file.writerow(data.values())\n",
    "print(data.values())\n",
    "\n",
    "\n",
    "    "
   ]
  },
  {
   "cell_type": "code",
   "execution_count": 1,
   "metadata": {
    "collapsed": false
   },
   "outputs": [
    {
     "data": {
      "application/javascript": [
       "require.undef(\"nbextensions/vpython_libraries/glow.min\");"
      ],
      "text/plain": [
       "<IPython.core.display.Javascript object>"
      ]
     },
     "metadata": {},
     "output_type": "display_data"
    },
    {
     "data": {
      "application/javascript": [
       "require.undef(\"nbextensions/vpython_libraries/glowcomm\");"
      ],
      "text/plain": [
       "<IPython.core.display.Javascript object>"
      ]
     },
     "metadata": {},
     "output_type": "display_data"
    },
    {
     "data": {
      "application/javascript": [
       "require.undef(\"nbextensions/vpython_libraries/jquery-ui.custom.min\");"
      ],
      "text/plain": [
       "<IPython.core.display.Javascript object>"
      ]
     },
     "metadata": {},
     "output_type": "display_data"
    },
    {
     "data": {
      "application/javascript": [
       "require([\"nbextensions/vpython_libraries/glow.min\"], function(){console.log(\"GLOW LOADED\");})"
      ],
      "text/plain": [
       "<IPython.core.display.Javascript object>"
      ]
     },
     "metadata": {},
     "output_type": "display_data"
    },
    {
     "data": {
      "application/javascript": [
       "require([\"nbextensions/vpython_libraries/glowcomm\"], function(){console.log(\"GLOWCOMM LOADED\");})"
      ],
      "text/plain": [
       "<IPython.core.display.Javascript object>"
      ]
     },
     "metadata": {},
     "output_type": "display_data"
    },
    {
     "data": {
      "application/javascript": [
       "require([\"nbextensions/vpython_libraries/jquery-ui.custom.min\"], function(){console.log(\"JQUERY LOADED\");})"
      ],
      "text/plain": [
       "<IPython.core.display.Javascript object>"
      ]
     },
     "metadata": {},
     "output_type": "display_data"
    },
    {
     "data": {
      "text/html": [
       "<div id=\"glowscript\" class=\"glowscript\"></div>"
      ],
      "text/plain": [
       "<IPython.core.display.HTML object>"
      ]
     },
     "metadata": {},
     "output_type": "display_data"
    },
    {
     "data": {
      "application/javascript": [
       "window.__context = { glowscript_container: $(\"#glowscript\").removeAttr(\"id\")}"
      ],
      "text/plain": [
       "<IPython.core.display.Javascript object>"
      ]
     },
     "metadata": {},
     "output_type": "display_data"
    },
    {
     "data": {
      "text/html": [
       "<div id=\"glowscript\" class=\"glowscript\"></div>"
      ],
      "text/plain": [
       "<IPython.core.display.HTML object>"
      ]
     },
     "metadata": {},
     "output_type": "display_data"
    },
    {
     "data": {
      "application/javascript": [
       "window.__context = { glowscript_container: $(\"#glowscript\").removeAttr(\"id\")}"
      ],
      "text/plain": [
       "<IPython.core.display.Javascript object>"
      ]
     },
     "metadata": {},
     "output_type": "display_data"
    },
    {
     "name": "stdout",
     "output_type": "stream",
     "text": [
      "m\n",
      "m\n",
      "z\n",
      "m\n",
      "m\n",
      "z\n",
      "m\n",
      "m\n",
      "m\n",
      "m\n",
      "m\n",
      "z\n"
     ]
    },
    {
     "ename": "KeyboardInterrupt",
     "evalue": "",
     "output_type": "error",
     "traceback": [
      "\u001b[0;31m---------------------------------------------------------------------------\u001b[0m",
      "\u001b[0;31mKeyboardInterrupt\u001b[0m                         Traceback (most recent call last)",
      "\u001b[0;32m<ipython-input-1-f3901b37655d>\u001b[0m in \u001b[0;36m<module>\u001b[0;34m()\u001b[0m\n\u001b[1;32m    197\u001b[0m        \u001b[1;31m#files.write('\\n')\u001b[0m\u001b[1;33m\u001b[0m\u001b[1;33m\u001b[0m\u001b[0m\n\u001b[1;32m    198\u001b[0m \u001b[1;33m\u001b[0m\u001b[0m\n\u001b[0;32m--> 199\u001b[0;31m \u001b[0mdata\u001b[0m\u001b[1;33m=\u001b[0m\u001b[0mpipeline\u001b[0m\u001b[1;33m(\u001b[0m\u001b[0mBackground\u001b[0m\u001b[1;33m)\u001b[0m\u001b[1;33m\u001b[0m\u001b[0m\n\u001b[0m",
      "\u001b[0;32m<ipython-input-1-f3901b37655d>\u001b[0m in \u001b[0;36mpipeline\u001b[0;34m(Background)\u001b[0m\n\u001b[1;32m    178\u001b[0m         \u001b[0mfixation_point\u001b[0m\u001b[1;33m(\u001b[0m\u001b[1;33m)\u001b[0m\u001b[1;33m\u001b[0m\u001b[0m\n\u001b[1;32m    179\u001b[0m         \u001b[0mtextfield\u001b[0m\u001b[1;33m=\u001b[0m\u001b[0mBackground\u001b[0m\u001b[1;33m(\u001b[0m\u001b[0mbar_wigth\u001b[0m\u001b[1;33m[\u001b[0m\u001b[0mi\u001b[0m\u001b[1;33m[\u001b[0m\u001b[1;36m3\u001b[0m\u001b[1;33m]\u001b[0m\u001b[1;33m]\u001b[0m\u001b[1;33m,\u001b[0m\u001b[0mbar_contrast\u001b[0m\u001b[1;33m[\u001b[0m\u001b[0mi\u001b[0m\u001b[1;33m[\u001b[0m\u001b[1;36m4\u001b[0m\u001b[1;33m]\u001b[0m\u001b[1;33m]\u001b[0m\u001b[1;33m,\u001b[0m\u001b[0mfeature_speed\u001b[0m\u001b[1;33m[\u001b[0m\u001b[0mi\u001b[0m\u001b[1;33m[\u001b[0m\u001b[1;36m1\u001b[0m\u001b[1;33m]\u001b[0m\u001b[1;33m]\u001b[0m\u001b[1;33m,\u001b[0m\u001b[0mfeature_length\u001b[0m\u001b[1;33m[\u001b[0m\u001b[0mi\u001b[0m\u001b[1;33m[\u001b[0m\u001b[1;36m2\u001b[0m\u001b[1;33m]\u001b[0m\u001b[1;33m]\u001b[0m\u001b[1;33m,\u001b[0m\u001b[0mvec\u001b[0m\u001b[1;33m(\u001b[0m\u001b[1;36m0\u001b[0m\u001b[1;33m,\u001b[0m\u001b[1;36m0\u001b[0m\u001b[1;33m,\u001b[0m\u001b[1;36m0\u001b[0m\u001b[1;33m)\u001b[0m\u001b[1;33m)\u001b[0m\u001b[1;33m\u001b[0m\u001b[0m\n\u001b[0;32m--> 180\u001b[0;31m         \u001b[0mtextfield\u001b[0m\u001b[1;33m.\u001b[0m\u001b[0mdraw_all\u001b[0m\u001b[1;33m(\u001b[0m\u001b[1;33m)\u001b[0m\u001b[1;33m\u001b[0m\u001b[0m\n\u001b[0m\u001b[1;32m    181\u001b[0m         \u001b[0mresult\u001b[0m \u001b[1;33m=\u001b[0m \u001b[0minput\u001b[0m\u001b[1;33m(\u001b[0m\u001b[1;33m)\u001b[0m\u001b[1;33m\u001b[0m\u001b[0m\n\u001b[1;32m    182\u001b[0m         \u001b[0mwinsound\u001b[0m\u001b[1;33m.\u001b[0m\u001b[0mBeep\u001b[0m\u001b[1;33m(\u001b[0m\u001b[1;36m3000\u001b[0m\u001b[1;33m,\u001b[0m\u001b[1;36m500\u001b[0m\u001b[1;33m)\u001b[0m\u001b[1;33m\u001b[0m\u001b[0m\n",
      "\u001b[0;32m<ipython-input-1-f3901b37655d>\u001b[0m in \u001b[0;36mdraw_all\u001b[0;34m(self)\u001b[0m\n\u001b[1;32m     81\u001b[0m         \u001b[0mself\u001b[0m\u001b[1;33m.\u001b[0m\u001b[0mwhite_twentyseven\u001b[0m\u001b[1;33m=\u001b[0m \u001b[0mbox\u001b[0m\u001b[1;33m(\u001b[0m\u001b[0mpos\u001b[0m \u001b[1;33m=\u001b[0m \u001b[0mvector\u001b[0m\u001b[1;33m(\u001b[0m\u001b[1;33m-\u001b[0m\u001b[1;36m1400\u001b[0m\u001b[1;33m+\u001b[0m\u001b[1;36m52\u001b[0m\u001b[1;33m*\u001b[0m\u001b[0mself\u001b[0m\u001b[1;33m.\u001b[0m\u001b[0mdense\u001b[0m\u001b[1;33m,\u001b[0m\u001b[1;36m0\u001b[0m\u001b[1;33m,\u001b[0m\u001b[1;36m0\u001b[0m\u001b[1;33m)\u001b[0m\u001b[1;33m,\u001b[0m\u001b[0mlength\u001b[0m \u001b[1;33m=\u001b[0m \u001b[0mself\u001b[0m\u001b[1;33m.\u001b[0m\u001b[0mdense\u001b[0m\u001b[1;33m,\u001b[0m\u001b[0mheight\u001b[0m \u001b[1;33m=\u001b[0m \u001b[1;36m1200\u001b[0m\u001b[1;33m,\u001b[0m\u001b[0mwidth\u001b[0m \u001b[1;33m=\u001b[0m \u001b[1;36m1\u001b[0m\u001b[1;33m,\u001b[0m\u001b[0mcolor\u001b[0m \u001b[1;33m=\u001b[0m\u001b[0mself\u001b[0m\u001b[1;33m.\u001b[0m\u001b[0macolor\u001b[0m\u001b[1;33m,\u001b[0m\u001b[0mshininess\u001b[0m\u001b[1;33m=\u001b[0m\u001b[1;36m0\u001b[0m\u001b[1;33m)\u001b[0m\u001b[1;33m\u001b[0m\u001b[0m\n\u001b[1;32m     82\u001b[0m         \u001b[0mself\u001b[0m\u001b[1;33m.\u001b[0m\u001b[0mwhite_twentyeight\u001b[0m\u001b[1;33m=\u001b[0m \u001b[0mbox\u001b[0m\u001b[1;33m(\u001b[0m\u001b[0mpos\u001b[0m \u001b[1;33m=\u001b[0m \u001b[0mvector\u001b[0m\u001b[1;33m(\u001b[0m\u001b[1;33m-\u001b[0m\u001b[1;36m1400\u001b[0m\u001b[1;33m+\u001b[0m\u001b[1;36m54\u001b[0m\u001b[1;33m*\u001b[0m\u001b[0mself\u001b[0m\u001b[1;33m.\u001b[0m\u001b[0mdense\u001b[0m\u001b[1;33m,\u001b[0m\u001b[1;36m0\u001b[0m\u001b[1;33m,\u001b[0m\u001b[1;36m0\u001b[0m\u001b[1;33m)\u001b[0m\u001b[1;33m,\u001b[0m\u001b[0mlength\u001b[0m \u001b[1;33m=\u001b[0m \u001b[0mself\u001b[0m\u001b[1;33m.\u001b[0m\u001b[0mdense\u001b[0m\u001b[1;33m,\u001b[0m\u001b[0mheight\u001b[0m \u001b[1;33m=\u001b[0m \u001b[1;36m1200\u001b[0m\u001b[1;33m,\u001b[0m\u001b[0mwidth\u001b[0m \u001b[1;33m=\u001b[0m \u001b[1;36m1\u001b[0m\u001b[1;33m,\u001b[0m\u001b[0mcolor\u001b[0m \u001b[1;33m=\u001b[0m\u001b[0mself\u001b[0m\u001b[1;33m.\u001b[0m\u001b[0macolor\u001b[0m\u001b[1;33m,\u001b[0m\u001b[0mshininess\u001b[0m\u001b[1;33m=\u001b[0m\u001b[1;36m0\u001b[0m\u001b[1;33m)\u001b[0m\u001b[1;33m\u001b[0m\u001b[0m\n\u001b[0;32m---> 83\u001b[0;31m         \u001b[0mself\u001b[0m\u001b[1;33m.\u001b[0m\u001b[0mdraw_figure\u001b[0m\u001b[1;33m(\u001b[0m\u001b[1;33m)\u001b[0m\u001b[1;33m\u001b[0m\u001b[0m\n\u001b[0m\u001b[1;32m     84\u001b[0m         \u001b[0mself\u001b[0m\u001b[1;33m.\u001b[0m\u001b[0mwhite_one\u001b[0m\u001b[1;33m.\u001b[0m\u001b[0mvisible\u001b[0m\u001b[1;33m=\u001b[0m\u001b[1;32mFalse\u001b[0m\u001b[1;33m\u001b[0m\u001b[0m\n\u001b[1;32m     85\u001b[0m         \u001b[0mself\u001b[0m\u001b[1;33m.\u001b[0m\u001b[0mwhite_two\u001b[0m\u001b[1;33m.\u001b[0m\u001b[0mvisible\u001b[0m\u001b[1;33m=\u001b[0m\u001b[1;32mFalse\u001b[0m\u001b[1;33m\u001b[0m\u001b[0m\n",
      "\u001b[0;32m<ipython-input-1-f3901b37655d>\u001b[0m in \u001b[0;36mdraw_figure\u001b[0;34m(self, R)\u001b[0m\n\u001b[1;32m     43\u001b[0m             \u001b[1;32melif\u001b[0m \u001b[0myellow_bar\u001b[0m\u001b[1;33m.\u001b[0m\u001b[0mpos\u001b[0m\u001b[1;33m.\u001b[0m\u001b[0mx\u001b[0m \u001b[1;33m<=\u001b[0m \u001b[1;33m-\u001b[0m\u001b[1;36m450\u001b[0m\u001b[1;33m:\u001b[0m\u001b[1;33m\u001b[0m\u001b[0m\n\u001b[1;32m     44\u001b[0m                 \u001b[0mmove_way\u001b[0m \u001b[1;33m=\u001b[0m \u001b[1;34m'right'\u001b[0m\u001b[1;33m\u001b[0m\u001b[0m\n\u001b[0;32m---> 45\u001b[0;31m             \u001b[0mrate\u001b[0m\u001b[1;33m(\u001b[0m\u001b[0mR\u001b[0m\u001b[1;33m)\u001b[0m\u001b[1;33m\u001b[0m\u001b[0m\n\u001b[0m\u001b[1;32m     46\u001b[0m             \u001b[0mtimestamp\u001b[0m \u001b[1;33m+=\u001b[0m \u001b[1;36m1\u001b[0m\u001b[1;33m/\u001b[0m\u001b[0mR\u001b[0m\u001b[1;33m\u001b[0m\u001b[0m\n\u001b[1;32m     47\u001b[0m \u001b[1;33m\u001b[0m\u001b[0m\n",
      "\u001b[0;32mD:\\p3\\lib\\site-packages\\vpython\\vpython.py\u001b[0m in \u001b[0;36m__call__\u001b[0;34m(self, N)\u001b[0m\n\u001b[1;32m    209\u001b[0m         \u001b[0mself\u001b[0m\u001b[1;33m.\u001b[0m\u001b[0mrval\u001b[0m \u001b[1;33m=\u001b[0m \u001b[0mN\u001b[0m\u001b[1;33m\u001b[0m\u001b[0m\n\u001b[1;32m    210\u001b[0m         \u001b[1;32mif\u001b[0m \u001b[0mself\u001b[0m\u001b[1;33m.\u001b[0m\u001b[0mrval\u001b[0m \u001b[1;33m<\u001b[0m \u001b[1;36m1\u001b[0m\u001b[1;33m:\u001b[0m \u001b[1;32mraise\u001b[0m \u001b[0mValueError\u001b[0m\u001b[1;33m(\u001b[0m\u001b[1;34m\"rate value must be greater than or equal to 1\"\u001b[0m\u001b[1;33m)\u001b[0m\u001b[1;33m\u001b[0m\u001b[0m\n\u001b[0;32m--> 211\u001b[0;31m         \u001b[0msuper\u001b[0m\u001b[1;33m(\u001b[0m\u001b[0m_RateKeeper2\u001b[0m\u001b[1;33m,\u001b[0m \u001b[0mself\u001b[0m\u001b[1;33m)\u001b[0m\u001b[1;33m.\u001b[0m\u001b[0m__call__\u001b[0m\u001b[1;33m(\u001b[0m\u001b[0mself\u001b[0m\u001b[1;33m.\u001b[0m\u001b[0mrval\u001b[0m\u001b[1;33m)\u001b[0m \u001b[1;31m## calls __call__ in rate_control.py\u001b[0m\u001b[1;33m\u001b[0m\u001b[0m\n\u001b[0m\u001b[1;32m    212\u001b[0m \u001b[1;33m\u001b[0m\u001b[0m\n\u001b[1;32m    213\u001b[0m \u001b[1;32mif\u001b[0m \u001b[0msys\u001b[0m\u001b[1;33m.\u001b[0m\u001b[0mversion\u001b[0m \u001b[1;33m>\u001b[0m \u001b[1;34m'3'\u001b[0m\u001b[1;33m:\u001b[0m\u001b[1;33m\u001b[0m\u001b[0m\n",
      "\u001b[0;32mD:\\p3\\lib\\site-packages\\vpython\\rate_control.py\u001b[0m in \u001b[0;36m__call__\u001b[0;34m(self, maxRate)\u001b[0m\n\u001b[1;32m    205\u001b[0m             \u001b[0mdt\u001b[0m \u001b[1;33m=\u001b[0m \u001b[0mself\u001b[0m\u001b[1;33m.\u001b[0m\u001b[0mlastSleep\u001b[0m \u001b[1;33m+\u001b[0m \u001b[0mself\u001b[0m\u001b[1;33m.\u001b[0m\u001b[0mcalls\u001b[0m\u001b[1;33m*\u001b[0m\u001b[1;33m(\u001b[0m\u001b[0mself\u001b[0m\u001b[1;33m.\u001b[0m\u001b[0muserTime\u001b[0m \u001b[1;33m+\u001b[0m \u001b[0mself\u001b[0m\u001b[1;33m.\u001b[0m\u001b[0mcallTime\u001b[0m \u001b[1;33m+\u001b[0m \u001b[0mself\u001b[0m\u001b[1;33m.\u001b[0m\u001b[0mdelay\u001b[0m\u001b[1;33m)\u001b[0m \u001b[1;33m+\u001b[0m\u001b[0;31m \u001b[0m\u001b[0;31m\\\u001b[0m\u001b[1;33m\u001b[0m\u001b[0m\n\u001b[1;32m    206\u001b[0m                  \u001b[0mrenders\u001b[0m\u001b[1;33m*\u001b[0m\u001b[0mself\u001b[0m\u001b[1;33m.\u001b[0m\u001b[0mrenderTime\u001b[0m \u001b[1;33m+\u001b[0m \u001b[0msleeps\u001b[0m\u001b[1;33m*\u001b[0m\u001b[0mself\u001b[0m\u001b[1;33m.\u001b[0m\u001b[0minteractionPeriod\u001b[0m \u001b[1;33m-\u001b[0m \u001b[0m_clock\u001b[0m\u001b[1;33m(\u001b[0m\u001b[1;33m)\u001b[0m\u001b[1;33m\u001b[0m\u001b[0m\n\u001b[0;32m--> 207\u001b[0;31m             \u001b[0m_sleep\u001b[0m\u001b[1;33m(\u001b[0m\u001b[0mdt\u001b[0m\u001b[1;33m)\u001b[0m\u001b[1;33m\u001b[0m\u001b[0m\n\u001b[0m\u001b[1;32m    208\u001b[0m             \u001b[0mself\u001b[0m\u001b[1;33m.\u001b[0m\u001b[0mlastSleep\u001b[0m \u001b[1;33m=\u001b[0m \u001b[0m_clock\u001b[0m\u001b[1;33m(\u001b[0m\u001b[1;33m)\u001b[0m\u001b[1;33m\u001b[0m\u001b[0m\n\u001b[1;32m    209\u001b[0m             \u001b[0mself\u001b[0m\u001b[1;33m.\u001b[0m\u001b[0mcalls\u001b[0m \u001b[1;33m=\u001b[0m \u001b[1;36m0\u001b[0m\u001b[1;33m\u001b[0m\u001b[0m\n",
      "\u001b[0;32mD:\\p3\\lib\\site-packages\\vpython\\rate_control.py\u001b[0m in \u001b[0;36m_sleep\u001b[0;34m(dt)\u001b[0m\n\u001b[1;32m     47\u001b[0m         \u001b[0mdtsleep\u001b[0m \u001b[1;33m=\u001b[0m \u001b[0mnticks\u001b[0m\u001b[1;33m*\u001b[0m\u001b[0m_tick\u001b[0m\u001b[1;33m\u001b[0m\u001b[0m\n\u001b[1;32m     48\u001b[0m         \u001b[0mt\u001b[0m \u001b[1;33m=\u001b[0m \u001b[0m_clock\u001b[0m\u001b[1;33m(\u001b[0m\u001b[1;33m)\u001b[0m\u001b[1;33m\u001b[0m\u001b[0m\n\u001b[0;32m---> 49\u001b[0;31m         \u001b[0mtime\u001b[0m\u001b[1;33m.\u001b[0m\u001b[0msleep\u001b[0m\u001b[1;33m(\u001b[0m\u001b[0mdtsleep\u001b[0m\u001b[1;33m)\u001b[0m\u001b[1;33m\u001b[0m\u001b[0m\n\u001b[0m\u001b[1;32m     50\u001b[0m         \u001b[0mt\u001b[0m \u001b[1;33m=\u001b[0m \u001b[0m_clock\u001b[0m\u001b[1;33m(\u001b[0m\u001b[1;33m)\u001b[0m\u001b[1;33m-\u001b[0m\u001b[0mt\u001b[0m\u001b[1;33m\u001b[0m\u001b[0m\n\u001b[1;32m     51\u001b[0m         \u001b[0mdt\u001b[0m \u001b[1;33m-=\u001b[0m \u001b[0mt\u001b[0m\u001b[1;33m\u001b[0m\u001b[0m\n",
      "\u001b[0;31mKeyboardInterrupt\u001b[0m: "
     ]
    }
   ],
   "source": []
  },
  {
   "cell_type": "markdown",
   "metadata": {
    "collapsed": true
   },
   "source": []
  }
 ],
 "metadata": {
  "kernelspec": {
   "display_name": "VPython",
   "language": "python",
   "name": "vpython"
  },
  "language_info": {
   "codemirror_mode": {
    "name": "ipython",
    "version": 3
   },
   "file_extension": ".py",
   "mimetype": "text/x-python",
   "name": "python",
   "nbconvert_exporter": "python",
   "pygments_lexer": "ipython3",
   "version": "3.6.0"
  }
 },
 "nbformat": 4,
 "nbformat_minor": 2
}
