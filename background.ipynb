{
 "cells": [
  {
   "cell_type": "code",
   "execution_count": 1,
   "metadata": {
    "collapsed": false
   },
   "outputs": [
    {
     "data": {
      "application/javascript": [
       "require.undef(\"nbextensions/vpython_libraries/glow.min\");"
      ],
      "text/plain": [
       "<IPython.core.display.Javascript object>"
      ]
     },
     "metadata": {},
     "output_type": "display_data"
    },
    {
     "data": {
      "application/javascript": [
       "require.undef(\"nbextensions/vpython_libraries/glowcomm\");"
      ],
      "text/plain": [
       "<IPython.core.display.Javascript object>"
      ]
     },
     "metadata": {},
     "output_type": "display_data"
    },
    {
     "data": {
      "application/javascript": [
       "require.undef(\"nbextensions/vpython_libraries/jquery-ui.custom.min\");"
      ],
      "text/plain": [
       "<IPython.core.display.Javascript object>"
      ]
     },
     "metadata": {},
     "output_type": "display_data"
    },
    {
     "data": {
      "application/javascript": [
       "require([\"nbextensions/vpython_libraries/glow.min\"], function(){console.log(\"GLOW LOADED\");})"
      ],
      "text/plain": [
       "<IPython.core.display.Javascript object>"
      ]
     },
     "metadata": {},
     "output_type": "display_data"
    },
    {
     "data": {
      "application/javascript": [
       "require([\"nbextensions/vpython_libraries/glowcomm\"], function(){console.log(\"GLOWCOMM LOADED\");})"
      ],
      "text/plain": [
       "<IPython.core.display.Javascript object>"
      ]
     },
     "metadata": {},
     "output_type": "display_data"
    },
    {
     "data": {
      "application/javascript": [
       "require([\"nbextensions/vpython_libraries/jquery-ui.custom.min\"], function(){console.log(\"JQUERY LOADED\");})"
      ],
      "text/plain": [
       "<IPython.core.display.Javascript object>"
      ]
     },
     "metadata": {},
     "output_type": "display_data"
    },
    {
     "data": {
      "text/html": [
       "<div id=\"glowscript\" class=\"glowscript\"></div>"
      ],
      "text/plain": [
       "<IPython.core.display.HTML object>"
      ]
     },
     "metadata": {},
     "output_type": "display_data"
    },
    {
     "data": {
      "application/javascript": [
       "window.__context = { glowscript_container: $(\"#glowscript\").removeAttr(\"id\")}"
      ],
      "text/plain": [
       "<IPython.core.display.Javascript object>"
      ]
     },
     "metadata": {},
     "output_type": "display_data"
    },
    {
     "data": {
      "text/html": [
       "<div id=\"glowscript\" class=\"glowscript\"></div>"
      ],
      "text/plain": [
       "<IPython.core.display.HTML object>"
      ]
     },
     "metadata": {},
     "output_type": "display_data"
    },
    {
     "data": {
      "application/javascript": [
       "window.__context = { glowscript_container: $(\"#glowscript\").removeAttr(\"id\")}"
      ],
      "text/plain": [
       "<IPython.core.display.Javascript object>"
      ]
     },
     "metadata": {},
     "output_type": "display_data"
    }
   ],
   "source": [
    "from vpython import*\n",
    "import math\n",
    "\n",
    "class background(object):\n",
    "        \n",
    "    def __init__(self,dense='',contrast='',acolor=''): \n",
    "        \n",
    "        self.dense=dense\n",
    "        self.contrast=contrast\n",
    "        self.acolor=acolor\n",
    "        \n",
    "    def bar_contrast(self):\n",
    "\n",
    "        if self.contrast == 'L':\n",
    "            self.acolor = vec(0.4,0.4,0.4)\n",
    "            scene.background = vec(0.4,0.4,0.4)\n",
    "        else:\n",
    "            self.acolor = vec(15,15,15)\n",
    "            scene.background = vec(0,0,0)\n",
    "    def draw_bar(self):\n",
    "        asreen=1400\n",
    "        bar_contrast(self)\n",
    "        for i in range(-1400,1400,self.dense*2):\n",
    "             white = box(pos = vector(i,0,0),length = self.dense,height = 1200,width = 1,color =self.acolor,shininess=0)\n",
    " \n",
    "scene=canvas(title='Test Field',width=1000, height=400,center=vector(0,0,0),background=color.black)\n",
    "scene.camera.pos=vector(0,0,400)\n",
    "scene.camera.axis=vector(0,0,-1)\n",
    "scene.range=400\n",
    "scene.fov = math.pi/4\n",
    "#scene.userzoom = False\n",
    "#scene.userspin = False\n",
    "scene.autoscale = False    \n",
    "x=background(150,\"L\",vec(0,0,0))\n",
    "\n",
    "\n",
    "\n",
    "    \n",
    "    \n",
    "   \n",
    "   \n"
   ]
  },
  {
   "cell_type": "markdown",
   "metadata": {
    "collapsed": false
   },
   "source": [
    "### from vpython import*\n",
    "face=sphere()\n",
    "right_ear=sphere(pos=vector(0.8,0.8,0.8),radius=0.3,color=color.yellow)\n",
    "left_ear=sphere(pos=vector(-0.8,0.8,0.8),radius=0.3,color=color.yellow)\n",
    "right_eye=sphere(pos=vector(0.5,0,1),radius=0.2,color=color.red)\n",
    "left_eye=sphere(pos=vector(-0.5,0,1),radius=0.2,color=color.red)\n",
    "nose=sphere(pos=vector(0,-0.3,1),radius=0.1,color=color.green)\n",
    "mouth=ellipsoid(pos=vector(0,-0.5,0.8),length=1,height=0.3,width=0.1,color=color.blue)"
   ]
  },
  {
   "cell_type": "code",
   "execution_count": null,
   "metadata": {
    "collapsed": true
   },
   "outputs": [],
   "source": []
  },
  {
   "cell_type": "code",
   "execution_count": null,
   "metadata": {
    "collapsed": true
   },
   "outputs": [],
   "source": []
  }
 ],
 "metadata": {
  "kernelspec": {
   "display_name": "VPython",
   "language": "python",
   "name": "vpython"
  },
  "language_info": {
   "codemirror_mode": {
    "name": "ipython",
    "version": 3
   },
   "file_extension": ".py",
   "mimetype": "text/x-python",
   "name": "python",
   "nbconvert_exporter": "python",
   "pygments_lexer": "ipython3",
   "version": "3.6.0"
  }
 },
 "nbformat": 4,
 "nbformat_minor": 2
}
